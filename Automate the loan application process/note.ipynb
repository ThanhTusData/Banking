{
 "cells": [
  {
   "cell_type": "raw",
   "id": "bd91ab38-0020-4faa-bff4-da43b612efac",
   "metadata": {},
   "source": [
    "Loan_ID: Mã số của khoản vay, định dạng kiểu object (chuỗi văn bản), là một khóa duy nhất cho mỗi khoản vay.\n",
    "\n",
    "Gender: Giới tính của người vay (ví dụ: Male, Female), kiểu dữ liệu object.\n",
    "\n",
    "Married: Tình trạng hôn nhân của người vay (ví dụ: Married, Not Married), kiểu dữ liệu object.\n",
    "\n",
    "Dependents: Số lượng người phụ thuộc của người vay (ví dụ: 0, 1, 2+, hoặc \"3\"), kiểu dữ liệu object.\n",
    "\n",
    "Education: Trình độ học vấn của người vay (ví dụ: Graduate, Not Graduate), kiểu dữ liệu object.\n",
    "\n",
    "Self_Employed: Trạng thái tự làm (ví dụ: Yes, No), kiểu dữ liệu object.\n",
    "\n",
    "ApplicantIncome: Thu nhập của người vay, kiểu dữ liệu int64. Đây là số tiền hàng tháng mà người vay kiếm được.\n",
    "\n",
    "CoapplicantIncome: Thu nhập của người đồng vay, kiểu dữ liệu float64. Đây là số tiền hàng tháng mà người đồng vay kiếm được.\n",
    "\n",
    "LoanAmount: Số tiền vay, kiểu dữ liệu float64. Đây là số tiền mà người vay muốn mượn từ ngân hàng.\n",
    "\n",
    "Loan_Amount_Term: Thời gian của khoản vay (thường tính bằng tháng), kiểu dữ liệu float64. Đây là thời gian mà người vay có để hoàn trả khoản vay.\n",
    "\n",
    "Credit_History: Lịch sử tín dụng của người vay (ví dụ: 1.0 hoặc 0.0), kiểu dữ liệu float64. Lịch sử tín dụng của người vay có thể ảnh hưởng đến khả năng duyệt vay, với giá trị 1.0 thường thể hiện người vay có lịch sử tín dụng tốt và 0.0 là không có lịch sử tín dụng hoặc lịch sử tín dụng kém.\n",
    "\n",
    "Property_Area: Khu vực nơi tài sản được thế chấp (ví dụ: Urban, Semiurban, Rural), kiểu dữ liệu object.\n",
    "\n",
    "Loan_Status: Trạng thái khoản vay (ví dụ: Y (Yes) hoặc N (No)), kiểu dữ liệu object. Đây là thông tin về việc liệu khoản vay của người vay đã được duyệt (Yes) hay từ chối (No)."
   ]
  }
 ],
 "metadata": {
  "kernelspec": {
   "display_name": "Python 3 (ipykernel)",
   "language": "python",
   "name": "python3"
  },
  "language_info": {
   "codemirror_mode": {
    "name": "ipython",
    "version": 3
   },
   "file_extension": ".py",
   "mimetype": "text/x-python",
   "name": "python",
   "nbconvert_exporter": "python",
   "pygments_lexer": "ipython3",
   "version": "3.12.4"
  }
 },
 "nbformat": 4,
 "nbformat_minor": 5
}
