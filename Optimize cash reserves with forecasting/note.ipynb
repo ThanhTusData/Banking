{
 "cells": [
  {
   "cell_type": "raw",
   "id": "9ec174ce-a50d-4457-8978-da6dab40a76c",
   "metadata": {},
   "source": [
    "atmId: Mã định danh duy nhất cho mỗi ATM.\n",
    "atmName: Tên của ATM.\n",
    "atmCity: Thành phố nơi đặt ATM.\n",
    "atmAddress: Địa chỉ của ATM.\n",
    "totalBalance: Tổng số dư hiện tại trong ATM.\n",
    "numberIncomeTransaction: Số lượng giao dịch nạp tiền vào ATM.\n",
    "numberOutcomeTransaction: Số lượng giao dịch rút tiền từ ATM.\n",
    "totalIncome: Tổng số tiền được nạp vào ATM.\n",
    "totalOutcome: Tổng số tiền được rút ra khỏi ATM.\n",
    "totalNumberTransaction: Tổng số giao dịch (bao gồm nạp và rút).\n",
    "day: Ngày ghi nhận giao dịch hoặc nhật ký.\n",
    "transactionTime: Thời gian ghi nhận giao dịch hoặc nhật ký."
   ]
  },
  {
   "cell_type": "code",
   "execution_count": null,
   "id": "9ae91200-148d-4dfc-8ee5-630822ef8ef5",
   "metadata": {},
   "outputs": [],
   "source": []
  }
 ],
 "metadata": {
  "kernelspec": {
   "display_name": "Python 3 (ipykernel)",
   "language": "python",
   "name": "python3"
  },
  "language_info": {
   "codemirror_mode": {
    "name": "ipython",
    "version": 3
   },
   "file_extension": ".py",
   "mimetype": "text/x-python",
   "name": "python",
   "nbconvert_exporter": "python",
   "pygments_lexer": "ipython3",
   "version": "3.12.4"
  }
 },
 "nbformat": 4,
 "nbformat_minor": 5
}
