{
 "cells": [
  {
   "cell_type": "raw",
   "id": "fc1a42ac-12ca-4d4c-abb4-15b3d034f0e5",
   "metadata": {},
   "source": [
    "age: Kiểu số nguyên, độ tuổi của khách hàng.\n",
    "job: Kiểu phân loại, loại công việc của khách hàng (ví dụ: \"blue-collar,\" \"student\").\n",
    "marital: Kiểu phân loại, tình trạng hôn nhân của khách hàng (ví dụ: \"single,\" \"married\").\n",
    "education: Kiểu phân loại, trình độ học vấn của khách hàng (ví dụ: \"secondary,\" \"tertiary\").\n",
    "default: Kiểu phân loại, liệu khách hàng có nợ tín dụng hay không (ví dụ: \"yes,\" \"no\").\n",
    "balance: Kiểu số nguyên, số dư tài khoản của khách hàng.\n",
    "housing: Kiểu phân loại, liệu khách hàng có khoản vay nhà ở hay không (ví dụ: \"yes,\" \"no\").\n",
    "loan: Kiểu phân loại, liệu khách hàng có khoản vay cá nhân hay không (ví dụ: \"yes,\" \"no\").\n",
    "contact: Kiểu phân loại, phương thức liên lạc với khách hàng (ví dụ: \"cellular,\" \"telephone\").\n",
    "day: Kiểu số nguyên, ngày trong tháng của lần liên lạc cuối cùng.\n",
    "month: Kiểu phân loại, tháng của lần liên lạc cuối cùng (ví dụ: \"jan,\" \"dec\").\n",
    "duration: Kiểu số nguyên, thời gian liên lạc cuối cùng (tính bằng giây).\n",
    "campaign: Kiểu số nguyên, số lần liên lạc được thực hiện trong chiến dịch này.\n",
    "pdays: Kiểu số nguyên, số ngày kể từ lần liên lạc trước trong chiến dịch trước đó (nếu có).\n",
    "previous: Kiểu số nguyên, số lần liên lạc được thực hiện trước chiến dịch này.\n",
    "poutcome: Kiểu phân loại, kết quả của chiến dịch marketing trước (ví dụ: \"failure,\" \"success\").\n",
    "y: Kiểu phân loại, liệu khách hàng có đăng ký gửi tiết kiệm (biến mục tiêu, ví dụ: \"yes,\" \"no\")."
   ]
  }
 ],
 "metadata": {
  "kernelspec": {
   "display_name": "Python 3 (ipykernel)",
   "language": "python",
   "name": "python3"
  },
  "language_info": {
   "codemirror_mode": {
    "name": "ipython",
    "version": 3
   },
   "file_extension": ".py",
   "mimetype": "text/x-python",
   "name": "python",
   "nbconvert_exporter": "python",
   "pygments_lexer": "ipython3",
   "version": "3.12.4"
  }
 },
 "nbformat": 4,
 "nbformat_minor": 5
}
