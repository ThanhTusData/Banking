{
 "cells": [
  {
   "cell_type": "raw",
   "id": "7b568ed2-4c08-4b4a-b154-c2fc50057e4d",
   "metadata": {},
   "source": [
    "Unnamed: 0: Có thể là cột đánh số thứ tự (index), không cần thiết nếu chỉ là ID dòng.\n",
    "trans_date_trans_time: Thời gian thực hiện giao dịch (hiện đang là kiểu object, cần chuyển sang kiểu datetime để phân tích).\n",
    "cc_num: Số thẻ tín dụng (có thể đã được mã hóa ẩn danh).\n",
    "merchant: Tên của cửa hàng/điểm bán hàng thực hiện giao dịch.\n",
    "category: Loại hình cửa hàng (ví dụ: thực phẩm, du lịch, v.v.).\n",
    "amt: Số tiền giao dịch.\n",
    "first: Tên của chủ thẻ.\n",
    "last: Họ của chủ thẻ.\n",
    "gender: Giới tính của chủ thẻ.\n",
    "street: Địa chỉ nhà của chủ thẻ.\n",
    "city: Thành phố nơi chủ thẻ sinh sống.\n",
    "state: Bang (hoặc tỉnh) nơi chủ thẻ sinh sống.\n",
    "zip: Mã ZIP của chủ thẻ.\n",
    "lat: Vĩ độ nơi chủ thẻ cư trú.\n",
    "long: Kinh độ nơi chủ thẻ cư trú.\n",
    "city_pop: Dân số của thành phố nơi chủ thẻ cư trú.\n",
    "job: Nghề nghiệp của chủ thẻ.\n",
    "dob: Ngày sinh của chủ thẻ (hiện là kiểu object, cần chuyển sang datetime để tính tuổi).\n",
    "trans_num: Số hiệu giao dịch (mã giao dịch duy nhất).\n",
    "unix_time: Thời gian giao dịch dưới dạng timestamp UNIX.\n",
    "merch_lat: Vĩ độ nơi cửa hàng thực hiện giao dịch.\n",
    "merch_long: Kinh độ nơi cửa hàng thực hiện giao dịch.\n",
    "is_fraud: Biến nhị phân (1 = giao dịch gian lận, 0 = giao dịch hợp lệ)."
   ]
  },
  {
   "cell_type": "raw",
   "id": "d5c7c177-2d8b-4e6c-a62c-bb36eafe09f5",
   "metadata": {},
   "source": [
    "# Mã hóa các biến phân loại\n",
    "label_encoders = {}\n",
    "for col in ['category', 'gender', 'job']:\n",
    "    le = LabelEncoder()\n",
    "    df[col] = le.fit_transform(df[col])\n",
    "    label_encoders[col] = le\n",
    "\n",
    "# Ví dụ: Giải mã lại cột 'category' từ số nguyên về giá trị ban đầu\n",
    "original_category = label_encoders['category'].inverse_transform(df['category'])\n",
    "print(original_category)"
   ]
  },
  {
   "cell_type": "raw",
   "id": "2a9cac5a-95c3-4338-b1a4-38ddbcb5c00e",
   "metadata": {},
   "source": [
    "\n",
    "Trong ngữ cảnh của việc chia tách dữ liệu (data splitting) để huấn luyện mô hình học máy, tham số stratify=y được sử dụng khi bạn muốn đảm bảo rằng tỉ lệ các lớp (hoặc các giá trị mục tiêu, thường là biến phụ thuộc y) trong các tập con (training và test) là giống nhau, giống như tỉ lệ trong toàn bộ dữ liệu ban đầu.\n",
    "\n",
    "Cụ thể hơn:\n",
    "Khi bạn sử dụng stratify=y trong hàm chia dữ liệu, ví dụ như train_test_split của sklearn, nó sẽ chia dữ liệu sao cho các tập con (training set và test set) có cùng phân phối tỉ lệ các giá trị của biến mục tiêu y như trong toàn bộ dataset.\n",
    "\n",
    "Ví dụ:\n",
    "Giả sử bạn có một tập dữ liệu với biến mục tiêu y có hai lớp: 0 và 1. Dữ liệu của bạn có 90% là lớp 0 và 10% là lớp 1. Khi bạn chia tập dữ liệu thành training và test set mà không sử dụng stratify, bạn có thể thấy rằng phân phối lớp trong các tập con không giống với toàn bộ dữ liệu, dẫn đến việc mô hình có thể thiếu thông tin từ lớp ít gặp.\n",
    "\n",
    "Tuy nhiên, nếu bạn sử dụng stratify=y, thì phân phối tỉ lệ của các lớp trong tập huấn luyện và kiểm tra sẽ giống với phân phối trong toàn bộ dữ liệu ban đầu."
   ]
  }
 ],
 "metadata": {
  "kernelspec": {
   "display_name": "Python 3 (ipykernel)",
   "language": "python",
   "name": "python3"
  },
  "language_info": {
   "codemirror_mode": {
    "name": "ipython",
    "version": 3
   },
   "file_extension": ".py",
   "mimetype": "text/x-python",
   "name": "python",
   "nbconvert_exporter": "python",
   "pygments_lexer": "ipython3",
   "version": "3.12.4"
  }
 },
 "nbformat": 4,
 "nbformat_minor": 5
}
